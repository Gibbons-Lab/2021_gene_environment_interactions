{
 "cells": [
  {
   "cell_type": "code",
   "execution_count": 22,
   "metadata": {},
   "outputs": [],
   "source": [
    "import arivale_data_interface as adi\n",
    "import numpy, pandas, glob, random, seaborn\n",
    "import matplotlib.pyplot as plt\n",
    "import seaborn as sns\n",
    "import scipy.stats\n",
    "from matplotlib.lines import Line2D\n",
    "from matplotlib import colors\n",
    "import rpy2.robjects as R\n",
    "from rpy2.robjects import numpy2ri, pandas2ri\n",
    "numpy2ri.activate()\n",
    "pandas2ri.activate()\n",
    "import sklearn.linear_model\n",
    "import statsmodels\n",
    "import statsmodels.api as sm\n",
    "from statsmodels.formula.api import ols\n",
    "from statsmodels.stats import multitest"
   ]
  },
  {
   "cell_type": "markdown",
   "metadata": {},
   "source": [
    "# get phenotype"
   ]
  },
  {
   "cell_type": "code",
   "execution_count": 12,
   "metadata": {},
   "outputs": [],
   "source": [
    "# define cohort and taxonomy level\n",
    "cohort = 'both'\n",
    "taxa_level = 'genus'\n",
    "bmi_or_not = 'bmi'\n",
    "classification = 'rdp'\n",
    "classification_method = classification + '_classification'"
   ]
  },
  {
   "cell_type": "markdown",
   "metadata": {},
   "source": [
    "## metabolomics"
   ]
  },
  {
   "cell_type": "code",
   "execution_count": 13,
   "metadata": {},
   "outputs": [],
   "source": [
    "# get phenotype and covariates\n",
    "metab_pheno = pandas.read_csv('../gxe/input_pheno/both_metab_10202019.pheno'.format(cohort), sep = '\\t', index_col = [0,1])\n",
    "metab_covar = pandas.read_csv('../gxe/input_pheno/both_metab_10202019.covar'.format(cohort), sep = '\\t', index_col = [0,1])\n",
    "metab_metadata = pandas.read_csv('../gxe/input_pheno/all_metab_11102019.pheno.metadata', sep = '\\t')\n",
    "unknown_metabolite = metab_metadata[metab_metadata['metabolite'].str.contains('X -')]['metabolite_id'].astype(str).unique()\n",
    "all_metabolites = metab_pheno.columns\n",
    "metabolomics_metadata_dict = metab_metadata.set_index('metabolite_id')['metabolite'].to_dict()\n",
    "\n",
    "metab_covar['age'] = (metab_covar['age'] - metab_covar['age'].mean())/metab_covar['age'].std()\n",
    "metab_covar['age_sq'] = metab_covar['age']**2\n",
    "metab_covar['sex_age'] = metab_covar['sex'].apply({'M':1, 'F':0}.get) * metab_covar['age']\n",
    "metab_covar['sex_age_sq'] = metab_covar['sex'].apply({'M':1, 'F':0}.get) * metab_covar['age_sq']\n",
    "\n",
    "# get covariates\n",
    "metab_covariates = ['age', 'age_sq','sex_age', 'sex_age_sq', 'sex', 'season', 'batch', 'PC1', 'PC2','PC3','PC4','PC5', 'bmi']\n",
    "metab_factors = ['sex','season','batch']\n",
    "\n",
    "# merge phenotype data with covariates\n",
    "metab_combined = metab_pheno.join(metab_covar[metab_covariates])\n",
    "metab_combined.index = metab_combined.index.droplevel(0)\n",
    "\n",
    "# adjust for covariates\n",
    "metab_adj = metab_combined[[]].copy()"
   ]
  },
  {
   "cell_type": "code",
   "execution_count": 14,
   "metadata": {},
   "outputs": [],
   "source": [
    "metab_rename = {metab:'X{0}'.format(metab) for metab in all_metabolites}\n",
    "metab_combined = metab_combined.rename(columns = metab_rename)\n",
    "\n",
    "for metabolite in all_metabolites:\n",
    "    out = ols('X{0} ~ age + age_sq + sex*age + sex*age_sq + sex + batch + bmi + PC1 + PC2 + PC3 + PC4 + PC5'.format(metabolite), metab_combined).fit()\n",
    "    metab_adj[metabolite] = out.resid\n",
    "    \n",
    "# get ONLY significant associations\n",
    "sig_metab_assoc = pandas.read_csv('../gxe/validate_gwas/clumped_variants/metab/fastgwa/clumped_10perc_second_pass_list.txt',\n",
    "               sep = '\\t', header = None)\n",
    "sig_metab_assoc.columns = ['rsid', 'Phenotype']\n",
    "# sig_metab_assoc = sig_metab_assoc[~sig_metab_assoc['Phenotype'].str.contains('X999')]\n",
    "sig_metab_assoc = numpy.unique(sig_metab_assoc['Phenotype'].str.replace('X','').astype(str).values)\n"
   ]
  },
  {
   "cell_type": "raw",
   "metadata": {},
   "source": [
    "R.r.assign('metab_combined',metab_combined)\n",
    "\n",
    "for category in metab_factors:\n",
    "    R.r('metab_combined${0} <- factor(metab_combined${0})'.format(category))\n",
    "\n",
    "for metabolite in all_metabolites[:1]:\n",
    "    print(metabolite)\n",
    "    R.r('fit <- lm(X{0} ~ age + age_sq + sex_age + sex_age_sq + sex + batch + bmi + PC1 + PC2 + PC3 + PC4 + PC5, data=metab_combined, na.action=na.exclude)'.format(metabolite))\n",
    "    metab_adj[metabolite] = R.r('residurals(fit)')\n",
    "\n",
    "# get ONLY significant associations\n",
    "sig_metab_assoc = pandas.read_csv('/homedir/notebooks-cheng/mr_project/gxe/validate_gwas/clumped_variants/metab/clumped_10perc_second_pass_list.txt',\n",
    "               sep = '\\t', header = None)\n",
    "sig_metab_assoc.columns = ['rsid', 'Phenotype']\n",
    "# sig_metab_assoc = sig_metab_assoc[~sig_metab_assoc['Phenotype'].str.contains('X999')]\n",
    "sig_metab_assoc = numpy.unique(sig_metab_assoc['Phenotype'].str.replace('X','').astype(str).values)"
   ]
  },
  {
   "cell_type": "markdown",
   "metadata": {},
   "source": [
    "## microbiome"
   ]
  },
  {
   "cell_type": "code",
   "execution_count": 15,
   "metadata": {},
   "outputs": [
    {
     "name": "stdout",
     "output_type": "stream",
     "text": [
      "num taxas to test: 64\n"
     ]
    }
   ],
   "source": [
    "# get all of the taxa tables\n",
    "micro_pheno_sets = {}\n",
    "micro_metadata = []\n",
    "for t_level in taxa_level.split('_'):\n",
    "    micro_pheno_sets[t_level] = pandas.read_csv('../microbiome_gwas/phyloseq/asv_analysis/{3}/{1}/{0}_asv_{1}_clr_adjusted_{2}_10272020.pheno'.format(cohort, t_level, bmi_or_not, classification_method), sep = '\\t', index_col = [0,1])\n",
    "    tax_metadata = pandas.read_csv('../microbiome_gwas/phyloseq/asv_analysis/{1}/{0}/renamed_asv_{0}_full_taxonomy_table_10282020.csv'.format(t_level, classification_method))\n",
    "    tax_metadata['tax_id'] = tax_metadata['tax_id'] + '_' + t_level\n",
    "    micro_metadata.append(tax_metadata)\n",
    "\n",
    "# pop the first level out\n",
    "t_level_orig, micro_pheno = micro_pheno_sets.popitem()\n",
    "micro_pheno = micro_pheno.rename(columns= {i:'_'.join([i,t_level_orig]) for i in micro_pheno.columns})\n",
    "\n",
    "# iterate through the rest\n",
    "for t_level in micro_pheno_sets.keys():\n",
    "    temp_micro_pheno = micro_pheno_sets[t_level]\n",
    "    temp_micro_pheno = temp_micro_pheno.rename(columns= {j:'_'.join([j,t_level]) for j in temp_micro_pheno.columns})\n",
    "    micro_pheno = micro_pheno.join(temp_micro_pheno)\n",
    "    \n",
    "# get metadata\n",
    "micro_metadata = pandas.concat(micro_metadata)\n",
    "micro_metadata = micro_metadata.append({'tax_id':'alpha_div', 'taxonomy':'Shannon alpha diversity'}, ignore_index=True)\n",
    "micro_metadata.to_csv('./joint_pheno/{0}_{1}.metadata'.format(taxa_level, classification_method), index = None, sep = '\\t')\n",
    "\n",
    "# remove duplicate alpha diversity\n",
    "alpha_div_columns = micro_pheno.columns[micro_pheno.columns.str.contains('alpha_div')]\n",
    "micro_pheno['alpha_div'] = micro_pheno.loc[:,alpha_div_columns].mean(axis = 1)\n",
    "micro_pheno = micro_pheno.drop(columns=alpha_div_columns)\n",
    "taxas = micro_pheno.columns.values\n",
    "\n",
    "print('num taxas to test: {0}'.format(len(taxas)))\n",
    "\n",
    "micro_metab_subset_pheno = micro_pheno[micro_pheno.index.isin(metab_pheno.index)]"
   ]
  },
  {
   "cell_type": "raw",
   "metadata": {},
   "source": [
    "micro_pheno_out = micro_pheno.loc[micro_pheno.index.isin(prot_pheno.index),:]\n",
    "micro_pheno_out.index = micro_pheno_out.index.droplevel(0)\n",
    "micro_pheno_out.to_csv('../microbiome_gwas/filtered_output/validate_gwas/{1}_micro_{0}_prot_adjusted_pheno_10202019.csv'.format(taxa_level, cohort))\n",
    "print(micro_pheno_out.shape)\n",
    "\n",
    "micro_pheno_out = micro_pheno.loc[micro_pheno.index.isin(metab_pheno.index), :]\n",
    "micro_pheno_out.index = micro_pheno_out.index.droplevel(0)\n",
    "micro_pheno_out.to_csv('../microbiome_gwas/filtered_output/validate_gwas/{1}_micro_{0}_metab_adjusted_pheno_10202019.csv'.format(taxa_level, cohort))\n",
    "print(micro_pheno_out.shape)"
   ]
  },
  {
   "cell_type": "markdown",
   "metadata": {},
   "source": [
    "# microbiome - metabolite associations"
   ]
  },
  {
   "cell_type": "code",
   "execution_count": 16,
   "metadata": {},
   "outputs": [
    {
     "data": {
      "text/plain": [
       "1163"
      ]
     },
     "execution_count": 16,
     "metadata": {},
     "output_type": "execute_result"
    }
   ],
   "source": [
    "# merge adjusted phenotypes\n",
    "micro_metab_adj = micro_metab_subset_pheno.join(metab_adj)\n",
    "micro_metab_adj.to_csv('./joint_pheno/{0}_{1}_{2}_micro_metab_adj.pheno'.format(cohort, taxa_level, classification))\n",
    "\n",
    "micro_metab_unadj = micro_metab_subset_pheno.join(metab_pheno)\n",
    "micro_metab_unadj.to_csv('./joint_pheno/{0}_{1}_{2}_micro_metab_unadj.pheno'.format(cohort, taxa_level, classification))\n",
    "metab_covar.to_csv('./joint_pheno/{0}_{1}_{2}_micro_metab_unadj.covar'.format(cohort, taxa_level, classification))\n",
    "len(micro_metab_adj)"
   ]
  },
  {
   "cell_type": "raw",
   "metadata": {},
   "source": [
    "all_metab_pheno = pandas.read_csv('../gxe/input_pheno/all_metab_11102019.pheno'.format(cohort), sep = '\\t', index_col = [0,1])\n",
    "\n",
    "snapshot_dir = '/homedir/notebooks-cheng/snapshots/arivale_snapshot_2019-05-20_1330/'\n",
    "clients = adi.get_snapshot('clients', path=snapshot_dir)\n",
    "clients = clients[clients['genome_id'].isin(all_metab_pheno.index.get_level_values(0))]\n",
    "clients = clients.set_index('public_client_id')[['genome_id']].dropna()\n",
    "\n",
    "assessments_new = adi.get_snapshot('assessments_health_history_new', path=snapshot_dir)\n",
    "assessments_new['days_since_first_draw'] = assessments_new['days_since_first_draw'].abs()\n",
    "assessments_new = assessments_new.sort_values('days_since_first_draw').groupby('public_client_id').first()\n",
    "\n",
    "t2d_col = assessments_new.columns[(assessments_new.columns.str.contains('type2_diabetes')) & \n",
    "                                  (assessments_new.columns.str.contains('current'))\n",
    "                                 ] \n",
    "\n",
    "ibd = assessments_new.columns[((assessments_new.columns.str.contains('crohn')) | \n",
    "                         (assessments_new.columns.str.contains('ulcerative'))) &\n",
    "                        (assessments_new.columns.str.contains('current'))]\n",
    "\n",
    "alzheimers = assessments_new.columns[(assessments_new.columns.str.contains('alz')) & \n",
    "                                  (assessments_new.columns.str.contains('current'))\n",
    "                                 ] \n",
    "\n",
    "disease = assessments_new[[]].copy()\n",
    "disease = disease.join(assessments_new[t2d_col] == 'TRUE')\n",
    "disease = disease.join(pandas.DataFrame((assessments_new[ibd] == 'TRUE').sum(axis = 1) > 0, columns = ['ibd_current']))\n",
    "# disease = disease.join(pandas.DataFrame((assessments_new[alzheimers] == 'TRUE').sum(axis = 1) > 0, columns = ['alzheimers_current']))\n",
    "disease['diseased'] = disease.sum(axis = 1) > 0\n",
    "clients_disease = clients.join(disease)\n",
    "healthy_clients = clients_disease.loc[clients_disease['diseased'] == False,'genome_id'].values\n",
    "\n",
    "micro_metab_adj = micro_metab_adj.loc[healthy_clients]\n",
    "micro_metab_adj.reset_index()[['FID','IID']].to_csv('./joint_pheno/healthy_inds.txt', index = None)\n",
    "len(micro_metab_adj)"
   ]
  },
  {
   "cell_type": "raw",
   "metadata": {},
   "source": [
    "pandas.DataFrame(healthy_clients).to_csv('./input_pheno/healthy_metab_clients.txt', index = None, header = None)"
   ]
  },
  {
   "cell_type": "markdown",
   "metadata": {},
   "source": [
    "## association analysis"
   ]
  },
  {
   "cell_type": "code",
   "execution_count": 17,
   "metadata": {},
   "outputs": [
    {
     "name": "stdout",
     "output_type": "stream",
     "text": [
      "num of comparisons:50368\n"
     ]
    }
   ],
   "source": [
    "all_metabolite_all_taxas_assoc = []\n",
    "for metabolite in set(all_metabolites) - set(unknown_metabolite):\n",
    "    for taxa in set(taxas):\n",
    "        temp = micro_metab_adj[[metabolite, taxa]].dropna()\n",
    "        \n",
    "        slope, intercept, r, pval, std = scipy.stats.linregress(temp[metabolite].values, temp[taxa].values)\n",
    "\n",
    "        all_metabolite_all_taxas_assoc.append([metabolite, taxa, pval, r])\n",
    "        \n",
    "print('num of comparisons:{0}'.format(len(all_metabolite_all_taxas_assoc)))"
   ]
  },
  {
   "cell_type": "code",
   "execution_count": 18,
   "metadata": {},
   "outputs": [],
   "source": [
    "# get annotations\n",
    "all_metabolite_all_taxas_assoc_df = pandas.DataFrame(all_metabolite_all_taxas_assoc).drop_duplicates()\n",
    "all_metabolite_all_taxas_assoc_df.columns = ['metabolite_id','tax_id', 'pval', 'r']\n",
    "all_metabolite_all_taxas_assoc_annotated = all_metabolite_all_taxas_assoc_df.merge(micro_metadata)\n",
    "all_metabolite_all_taxas_assoc_annotated = all_metabolite_all_taxas_assoc_annotated.merge(metab_metadata[['metabolite_id','metabolite']].astype(str))"
   ]
  },
  {
   "cell_type": "code",
   "execution_count": 19,
   "metadata": {},
   "outputs": [
    {
     "name": "stdout",
     "output_type": "stream",
     "text": [
      "1968\n",
      "417\n",
      "459\n",
      "146\n"
     ]
    }
   ],
   "source": [
    "# do FDR correction\n",
    "fdr_pass, pval_corrected, sidak, bonf = statsmodels.stats.multitest.multipletests(all_metabolite_all_taxas_assoc_annotated['pval'], method='fdr_bh')\n",
    "\n",
    "all_metabolite_all_taxas_assoc_annotated['fdr_pass'] = fdr_pass\n",
    "all_metabolite_all_taxas_assoc_annotated['pval_corrected'] = pval_corrected\n",
    "\n",
    "all_metabolite_all_taxas_assoc_annotated_fdr = all_metabolite_all_taxas_assoc_annotated[all_metabolite_all_taxas_assoc_annotated['fdr_pass'] == True]\n",
    "sig_metabolite_all_taxas_assoc_annotated_fdr = all_metabolite_all_taxas_assoc_annotated_fdr[all_metabolite_all_taxas_assoc_annotated_fdr['metabolite_id'].isin(numpy.unique(sig_metab_assoc))]\n",
    "\n",
    "all_metabolite_all_taxas_assoc_annotated_fdr.to_csv('./assoc_results/{0}_all_metabolite_all_{1}_{3}_assoc_fdr_corr_{2}.csv'.format(cohort, taxa_level, bmi_or_not, classification), index = None)\n",
    "sig_metabolite_all_taxas_assoc_annotated_fdr.to_csv('./assoc_results/{0}_sig_metabolite_all_{1}_{3}_assoc_fdr_corr_{2}.csv'.format(cohort, taxa_level, bmi_or_not, classification), index = None)\n",
    "print(len(all_metabolite_all_taxas_assoc_annotated_fdr))\n",
    "print(len(all_metabolite_all_taxas_assoc_annotated_fdr['metabolite_id'].unique()))\n",
    "print(len(sig_metabolite_all_taxas_assoc_annotated_fdr))\n",
    "print(len(sig_metabolite_all_taxas_assoc_annotated_fdr['metabolite_id'].unique()))"
   ]
  },
  {
   "cell_type": "raw",
   "metadata": {},
   "source": [
    "all_all_fdr_pass = all_metabolite_all_taxas_assoc_annotated[all_metabolite_all_taxas_assoc_annotated['fdr_pass']]\n",
    "\n",
    "assoc_matrix = all_all_fdr_pass.pivot_table(index='metabolite_id', columns='tax_id', values='r')\n",
    "assoc_matrix = assoc_matrix.fillna(0)\n",
    "g = sns.clustermap(1-assoc_matrix, cmap = 'RdYlGn', mask=(assoc_matrix==0), figsize=(10,50))\n",
    "plt.close()\n",
    "\n",
    "assoc_matrix_reordered = assoc_matrix.iloc[g.dendrogram_row.reordered_ind, g.dendrogram_col.reordered_ind]\n",
    "\n",
    "tax_dict = micro_metadata.set_index('tax_id')['taxonomy']\n",
    "assoc_matrix_reordered.rename(metabolomics_metadata_dict).rename(columns = tax_dict).to_csv('./reordered_associations.csv')"
   ]
  },
  {
   "cell_type": "code",
   "execution_count": 14,
   "metadata": {},
   "outputs": [
    {
     "name": "stdout",
     "output_type": "stream",
     "text": [
      "num of comparisons:67682\n"
     ]
    }
   ],
   "source": [
    "# adjust for alpha diversity\n",
    "\n",
    "all_all_assoc_adj_diversity = []\n",
    "for metabolite in set(all_metabolites) - set(unknown_metabolite):\n",
    "    temp = micro_metab_adj[[metabolite, 'alpha_div']].dropna()\n",
    "    slope, intercept, r, pval, std = scipy.stats.linregress(temp[metabolite].values, temp['alpha_div'].values)\n",
    "    all_all_assoc_adj_diversity.append([metabolite, 'alpha_div', pval, r])\n",
    "    \n",
    "    for taxa in set(taxas) - set(['alpha_div']):\n",
    "        temp = micro_metab_adj[[metabolite, taxa, 'alpha_div']].dropna()\n",
    "        \n",
    "        div_resid = sm.OLS(temp[metabolite].values, sm.add_constant(temp[['alpha_div']].values)).fit().resid\n",
    "\n",
    "        slope, intercept, r, pval, std = scipy.stats.linregress(div_resid, temp[taxa].values)\n",
    "\n",
    "        all_all_assoc_adj_diversity.append([metabolite, taxa, pval, r])\n",
    "        \n",
    "        \n",
    "print('num of comparisons:{0}'.format(len(all_all_assoc_adj_diversity)))"
   ]
  },
  {
   "cell_type": "code",
   "execution_count": 15,
   "metadata": {},
   "outputs": [],
   "source": [
    "# get annotations alpha adjusted\n",
    "all_all_assoc_adj_diversity_df = pandas.DataFrame(all_all_assoc_adj_diversity,\n",
    "                                                  columns = ['metabolite_id','tax_id','pval', 'r']).drop_duplicates()\n",
    "all_all_assoc_adj_diversity_annotated = all_all_assoc_adj_diversity_df.merge(micro_metadata)\n",
    "all_all_assoc_adj_diversity_annotated = all_all_assoc_adj_diversity_annotated.merge(metab_metadata[['metabolite_id','metabolite']].astype(str))"
   ]
  },
  {
   "cell_type": "code",
   "execution_count": 16,
   "metadata": {},
   "outputs": [
    {
     "name": "stdout",
     "output_type": "stream",
     "text": [
      "964\n",
      "326\n",
      "213\n",
      "114\n"
     ]
    }
   ],
   "source": [
    "fdr_pass, pval_corrected, sidak, bonf = statsmodels.stats.multitest.multipletests(all_all_assoc_adj_diversity_annotated['pval'], method='fdr_bh')\n",
    "\n",
    "all_all_assoc_adj_diversity_annotated['fdr_pass'] = fdr_pass\n",
    "all_all_assoc_adj_diversity_annotated['pval_corrected'] = pval_corrected\n",
    "\n",
    "all_all_assoc_adj_diversity_annotated_fdr = all_all_assoc_adj_diversity_annotated[all_all_assoc_adj_diversity_annotated['fdr_pass'] == True]\n",
    "sig_metabolite_all_taxas_adj_diversity_annotated_fdr = all_all_assoc_adj_diversity_annotated_fdr[all_all_assoc_adj_diversity_annotated_fdr['metabolite_id'].isin(numpy.unique(sig_metab_assoc))]\n",
    "\n",
    "all_all_assoc_adj_diversity_annotated_fdr.to_csv('./assoc_results/{0}_all_metabolite_all_{1}_{3}_div_adj_fdr_corr_{2}.csv'.format(cohort, taxa_level, bmi_or_not, classification), index = None)\n",
    "sig_metabolite_all_taxas_adj_diversity_annotated_fdr.to_csv('./assoc_results/{0}_sig_metabolite_all_{1}_{3}_div_adj_fdr_corr_{2}.csv'.format(cohort, taxa_level, bmi_or_not, classification), index = None)\n",
    "print(len(all_all_assoc_adj_diversity_annotated_fdr))\n",
    "print(len(all_all_assoc_adj_diversity_annotated_fdr['metabolite_id'].unique()))\n",
    "print(len(sig_metabolite_all_taxas_adj_diversity_annotated_fdr))\n",
    "print(len(sig_metabolite_all_taxas_adj_diversity_annotated_fdr['metabolite_id'].unique()))"
   ]
  },
  {
   "cell_type": "markdown",
   "metadata": {},
   "source": [
    "# microbiome - protein analysis"
   ]
  },
  {
   "cell_type": "code",
   "execution_count": null,
   "metadata": {},
   "outputs": [],
   "source": [
    "# get phenotype and covariates\n",
    "prot_pheno = pandas.read_csv('../gxe/input_pheno/{0}_prot_10202019.pheno'.format(cohort), sep = '\\t', index_col = [0,1])\n",
    "prot_covar = pandas.read_csv('../gxe/input_pheno/{0}_prot_10202019.covar'.format(cohort), sep = '\\t', index_col = [0,1])\n",
    "proteins = prot_pheno.columns\n",
    "\n",
    "# merge phenotype data with covariates\n",
    "prot_covariates = ['age', 'age_sq','sex_age', 'sex_age_sq', 'sex', 'Chip_ID_CVD2', 'Chip_ID_CVD3', 'Chip_ID_INF', 'PC1', 'PC2','PC3','PC4','PC5', 'bmi']\n",
    "prot_factors = ['sex','Chip_ID_CVD2', 'Chip_ID_CVD3', 'Chip_ID_INF']\n",
    "prot_combined = prot_pheno.join(prot_covar[prot_covariates])\n",
    "prot_combined.index = prot_combined.index.droplevel(0)\n",
    "\n",
    "# get list of proteins\n",
    "cvd2_proteins = prot_combined.columns[prot_combined.columns.str.contains('CVD2_')].values\n",
    "cvd3_proteins = prot_combined.columns[prot_combined.columns.str.contains('CVD3_')].values\n",
    "inf_proteins = prot_combined.columns[prot_combined.columns.str.contains('INF_')].values\n",
    "all_proteins = numpy.concatenate([cvd2_proteins, cvd3_proteins, inf_proteins])\n",
    "\n",
    "# get ONLY significant associations\n",
    "proteomics_metadata = adi.get_snapshot('proteomics_metadata', path='/homedir/notebooks-cheng/snapshots/arivale_snapshot_2019-05-20_1330/')\n",
    "proteomics_metadata['name'] = proteomics_metadata['name'].str.replace(',','_').str.replace('-','_')\n",
    "proteomics_metadata['gene_name'] = proteomics_metadata['gene_name'].str.replace(',','_').str.replace('-','_')\n",
    "proteomics_metadata['panel_gene'] = proteomics_metadata.apply(lambda x: x['panel'] + '_' + x['gene_name'], axis = 1)\n",
    "proteomics_metadata_dict = proteomics_metadata.set_index('name')['panel_gene'].to_dict()\n",
    "\n",
    "sig_prot_assoc = pandas.read_csv('/homedir/notebooks-cheng/mr_project/metab_prot/mr_analysis/validated_proteomics_association.csv')\n",
    "sig_prot_assoc = sig_prot_assoc[sig_prot_assoc['Pr(>|t|)'] <= 1e-4]\n",
    "sig_prot_assoc = numpy.unique(sig_prot_assoc['Phenotype'].astype(str).values)"
   ]
  },
  {
   "cell_type": "raw",
   "metadata": {},
   "source": [
    "prot_adj.join(metab_adj).to_csv('./validate_gwas/metab_prot_adjusted_pheno_10202019.csv')"
   ]
  },
  {
   "cell_type": "code",
   "execution_count": null,
   "metadata": {},
   "outputs": [],
   "source": [
    "# adjust for covariates\n",
    "prot_adj = prot_combined[[]].copy()\n",
    "R.r.assign('prot_combined',prot_combined)\n",
    "\n",
    "for category in prot_factors:\n",
    "    R.r('prot_combined${0} <- factor(prot_combined${0})'.format(category))\n",
    "\n",
    "for prot in cvd2_proteins:\n",
    "    R.r('fit <- lm({0} ~ age + age_sq + sex_age + sex_age_sq + sex + bmi + Chip_ID_CVD2 + PC1 + PC2 + PC3 + PC4 + PC5, data=prot_combined, na.action=na.exclude)'.format(prot))\n",
    "    prot_adj[prot] = R.r('residuals(fit)')\n",
    "\n",
    "for prot in cvd3_proteins:\n",
    "    R.r('fit <- lm({0} ~ age + age_sq + sex_age + sex_age_sq + sex + bmi + Chip_ID_CVD3 + PC1 + PC2 + PC3 + PC4 + PC5, data=prot_combined, na.action=na.exclude)'.format(prot))\n",
    "    prot_adj[prot] = R.r('residuals(fit)')\n",
    "\n",
    "for prot in inf_proteins:\n",
    "    R.r('fit <- lm({0} ~ age + age_sq + sex_age + sex_age_sq + sex + bmi + Chip_ID_INF + PC1 + PC2 + PC3 + PC4 + PC5, data=prot_combined, na.action=na.exclude)'.format(prot))\n",
    "    prot_adj[prot] = R.r('residuals(fit)')"
   ]
  },
  {
   "cell_type": "code",
   "execution_count": null,
   "metadata": {},
   "outputs": [],
   "source": [
    "# merge adjusted phenotypes\n",
    "micro_prot_subset_pheno = micro_pheno[micro_pheno.index.isin(prot_pheno.index)]\n",
    "micro_prot_adj = micro_prot_subset_pheno.join(prot_adj)\n",
    "micro_prot_adj.to_csv('./joint_pheno/{0}_{1}_micro_prot_adj.pheno'.format(cohort, taxa_level))\n",
    "\n",
    "micro_prot_unadj = micro_prot_subset_pheno.join(prot_pheno)\n",
    "micro_prot_unadj.to_csv('./joint_pheno/{0}_{1}_micro_prot_unadj.pheno'.format(cohort, taxa_level))\n",
    "prot_covar.loc[prot_covar.index.isin(micro_prot_unadj.index),:].to_csv('./joint_pheno/{0}_{1}_micro_prot_unadj.covar'.format(cohort, taxa_level))\n",
    "print(len(micro_prot_adj))"
   ]
  },
  {
   "cell_type": "markdown",
   "metadata": {},
   "source": [
    "## association analysis"
   ]
  },
  {
   "cell_type": "markdown",
   "metadata": {},
   "source": [
    "### run OLS with all protein - taxa combo"
   ]
  },
  {
   "cell_type": "code",
   "execution_count": null,
   "metadata": {},
   "outputs": [],
   "source": [
    "all_protein_all_taxas_assoc = []\n",
    "for protein in numpy.unique(all_proteins):\n",
    "    for taxa in taxas:\n",
    "        temp = micro_prot_adj[[protein, taxa]].dropna()\n",
    "        \n",
    "        ols_results = sm.OLS(temp[protein].values, sm.add_constant(temp[taxa].values)).fit()\n",
    "        cons_pval, pval = ols_results.pvalues\n",
    "                \n",
    "        all_protein_all_taxas_assoc.append([protein, taxa, pval])\n",
    "\n",
    "print('num of sig proteins:{0}'.format(len(numpy.unique(all_proteins))))        \n",
    "print('num of taxas: {0}'.format(len(taxas)))\n",
    "print('num of comparisons:{0}'.format(len(all_protein_all_taxas_assoc)))"
   ]
  },
  {
   "cell_type": "code",
   "execution_count": null,
   "metadata": {},
   "outputs": [],
   "source": [
    "all_protein_all_taxas_assoc_df = pandas.DataFrame(all_protein_all_taxas_assoc).drop_duplicates()\n",
    "all_protein_all_taxas_assoc_df.columns = ['protein_id','taxa_id','pval']\n",
    "all_protein_all_taxas_assoc_annotated = all_protein_all_taxas_assoc_df.merge(micro_metadata)\n",
    "all_protein_all_taxas_assoc_annotated['protein'] = list(map(proteomics_metadata_dict.get, all_protein_all_taxas_assoc_annotated['protein_id'].values))\n",
    "\n",
    "all_protein_all_taxas_assoc_within_fam_bonff = all_protein_all_taxas_assoc_annotated.loc[all_protein_all_taxas_assoc_annotated['pval'] <= 0.05/len(taxas),]\n",
    "all_protein_all_taxas_assoc_within_fam_bonff = all_protein_all_taxas_assoc_within_fam_bonff[['protein_id','taxa_id','pval', 'taxonomy','protein']]\n",
    "all_protein_all_taxas_assoc_within_fam_bonff.to_csv('./assoc_results/{0}_all_protein_all_{1}_assoc_within_fam_corr_{2}.csv'.format(cohort, taxa_level, bmi_or_not), index = None)\n",
    "len(all_protein_all_taxas_assoc_within_fam_bonff)"
   ]
  },
  {
   "cell_type": "code",
   "execution_count": 12,
   "metadata": {},
   "outputs": [
    {
     "data": {
      "text/plain": [
       "74"
      ]
     },
     "execution_count": 12,
     "metadata": {},
     "output_type": "execute_result"
    }
   ],
   "source": [
    "sig_protein_all_taxas_assoc_annotated = all_protein_all_taxas_assoc_annotated[all_protein_all_taxas_assoc_annotated['protein_id'].isin(numpy.unique(sig_prot_assoc))]\n",
    "sig_protein_all_taxas_assoc_annotated.to_csv('./assoc_results/{0}_sig_protein_all_{1}_assoc_asv_{2}.csv'.format(cohort, taxa_level, bmi_or_not), index = None)\n",
    "\n",
    "sig_protein_all_taxas_assoc_within_fam_bonff = sig_protein_all_taxas_assoc_annotated.loc[sig_protein_all_taxas_assoc_annotated['pval'] <= 0.05/len(taxas),]\n",
    "sig_protein_all_taxas_assoc_within_fam_bonff = sig_protein_all_taxas_assoc_within_fam_bonff[['protein_id','taxa_id','pval', 'taxonomy','protein']]\n",
    "sig_protein_all_taxas_assoc_within_fam_bonff.to_csv('./assoc_results/{0}_sig_protein_all_{1}_assoc_within_fam_corr_{2}.csv'.format(cohort, taxa_level, bmi_or_not), index = None)\n",
    "len(sig_protein_all_taxas_assoc_within_fam_bonff)"
   ]
  }
 ],
 "metadata": {
  "kernelspec": {
   "display_name": "Python 3",
   "language": "python",
   "name": "python3"
  },
  "language_info": {
   "codemirror_mode": {
    "name": "ipython",
    "version": 3
   },
   "file_extension": ".py",
   "mimetype": "text/x-python",
   "name": "python",
   "nbconvert_exporter": "python",
   "pygments_lexer": "ipython3",
   "version": "3.8.3"
  }
 },
 "nbformat": 4,
 "nbformat_minor": 4
}
