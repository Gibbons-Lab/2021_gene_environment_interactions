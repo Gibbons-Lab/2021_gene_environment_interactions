{
 "cells": [
  {
   "cell_type": "markdown",
   "id": "multiple-bridges",
   "metadata": {},
   "source": [
    "# Cohort assembly\n",
    "\n",
    "Here we will go through the Arivale data and assemble the cohort for the analysis. Initially what we want to generate is a mapping of public client IDs to their respective genome, metabolite abundances and microbiome profile. This will be used to assemble the fit and validation cohorts."
   ]
  },
  {
   "cell_type": "code",
   "execution_count": 1,
   "id": "statistical-bulletin",
   "metadata": {},
   "outputs": [],
   "source": [
    "import warnings\n",
    "warnings.simplefilter(\"ignore\")"
   ]
  },
  {
   "cell_type": "markdown",
   "id": "neither-jacksonville",
   "metadata": {},
   "source": [
    "## Genetic variants\n",
    "\n",
    "We start by reading the set of samples with assigned variants in from the generated BED files and match them to the Arivale client list."
   ]
  },
  {
   "cell_type": "code",
   "execution_count": 2,
   "id": "renewable-techno",
   "metadata": {},
   "outputs": [
    {
     "data": {
      "text/plain": [
       "(2629, 2)"
      ]
     },
     "execution_count": 2,
     "metadata": {},
     "output_type": "execute_result"
    }
   ],
   "source": [
    "import arivale_data_interface as adi\n",
    "from pyplink import PyPlink\n",
    "import warnings\n",
    "warnings.simplefilter(\"ignore\")\n",
    "\n",
    "fam = PyPlink(\"input_bed/all_chr/all_genomes_09112019_all_chr\").get_fam()\n",
    "dashboard = adi.get_snapshot(\"genetics_snp\")\n",
    "with_genomes = dashboard[dashboard.genome_id.isin(fam.iid) & (dashboard.genome_vendor == \"NEXTCODE\")][[\"public_client_id\", \"genome_id\"]]\n",
    "with_genomes.shape"
   ]
  },
  {
   "cell_type": "markdown",
   "id": "dangerous-frequency",
   "metadata": {},
   "source": [
    "## Metabolome data\n",
    "\n",
    "We now get the metabolome data and see where we have overlap."
   ]
  },
  {
   "cell_type": "code",
   "execution_count": 3,
   "id": "fitting-application",
   "metadata": {},
   "outputs": [
    {
     "data": {
      "text/html": [
       "<div>\n",
       "<style scoped>\n",
       "    .dataframe tbody tr th:only-of-type {\n",
       "        vertical-align: middle;\n",
       "    }\n",
       "\n",
       "    .dataframe tbody tr th {\n",
       "        vertical-align: top;\n",
       "    }\n",
       "\n",
       "    .dataframe thead th {\n",
       "        text-align: right;\n",
       "    }\n",
       "</style>\n",
       "<table border=\"1\" class=\"dataframe\">\n",
       "  <thead>\n",
       "    <tr style=\"text-align: right;\">\n",
       "      <th></th>\n",
       "      <th>public_client_id</th>\n",
       "      <th>blood_sample_id</th>\n",
       "      <th>blood_days_in_program</th>\n",
       "    </tr>\n",
       "  </thead>\n",
       "  <tbody>\n",
       "    <tr>\n",
       "      <th>0</th>\n",
       "      <td>01000261</td>\n",
       "      <td>A477AV558-002</td>\n",
       "      <td>65</td>\n",
       "    </tr>\n",
       "    <tr>\n",
       "      <th>1</th>\n",
       "      <td>01001621</td>\n",
       "      <td>A391BM948-002</td>\n",
       "      <td>265</td>\n",
       "    </tr>\n",
       "    <tr>\n",
       "      <th>2</th>\n",
       "      <td>01001621</td>\n",
       "      <td>A776BI445-003</td>\n",
       "      <td>11</td>\n",
       "    </tr>\n",
       "    <tr>\n",
       "      <th>3</th>\n",
       "      <td>01002183</td>\n",
       "      <td>A595AV320-002</td>\n",
       "      <td>13</td>\n",
       "    </tr>\n",
       "    <tr>\n",
       "      <th>4</th>\n",
       "      <td>01002412</td>\n",
       "      <td>A294AU415-002</td>\n",
       "      <td>13</td>\n",
       "    </tr>\n",
       "    <tr>\n",
       "      <th>...</th>\n",
       "      <td>...</td>\n",
       "      <td>...</td>\n",
       "      <td>...</td>\n",
       "    </tr>\n",
       "    <tr>\n",
       "      <th>3300</th>\n",
       "      <td>HX409129</td>\n",
       "      <td>A581BK409-002</td>\n",
       "      <td>5</td>\n",
       "    </tr>\n",
       "    <tr>\n",
       "      <th>3301</th>\n",
       "      <td>HX460562</td>\n",
       "      <td>A641BO324-003</td>\n",
       "      <td>28</td>\n",
       "    </tr>\n",
       "    <tr>\n",
       "      <th>3302</th>\n",
       "      <td>HX794171</td>\n",
       "      <td>A229BM682-002</td>\n",
       "      <td>56</td>\n",
       "    </tr>\n",
       "    <tr>\n",
       "      <th>3303</th>\n",
       "      <td>INEW</td>\n",
       "      <td>A750AX220-002</td>\n",
       "      <td>149</td>\n",
       "    </tr>\n",
       "    <tr>\n",
       "      <th>3304</th>\n",
       "      <td>MUMA</td>\n",
       "      <td>A803AW467-002</td>\n",
       "      <td>120</td>\n",
       "    </tr>\n",
       "  </tbody>\n",
       "</table>\n",
       "<p>3305 rows × 3 columns</p>\n",
       "</div>"
      ],
      "text/plain": [
       "     public_client_id blood_sample_id  blood_days_in_program\n",
       "0            01000261   A477AV558-002                     65\n",
       "1            01001621   A391BM948-002                    265\n",
       "2            01001621   A776BI445-003                     11\n",
       "3            01002183   A595AV320-002                     13\n",
       "4            01002412   A294AU415-002                     13\n",
       "...               ...             ...                    ...\n",
       "3300         HX409129   A581BK409-002                      5\n",
       "3301         HX460562   A641BO324-003                     28\n",
       "3302         HX794171   A229BM682-002                     56\n",
       "3303             INEW   A750AX220-002                    149\n",
       "3304             MUMA   A803AW467-002                    120\n",
       "\n",
       "[3305 rows x 3 columns]"
      ]
     },
     "execution_count": 3,
     "metadata": {},
     "output_type": "execute_result"
    }
   ],
   "source": [
    "mets = adi.get_snapshot(\"metabolomics_corrected\")\n",
    "with_metabolomics = mets[[\"public_client_id\", \"sample_id\", \"days_in_program\"]].rename(columns={\"days_in_program\": \"blood_days_in_program\", \"sample_id\": \"blood_sample_id\"})\n",
    "with_metabolomics"
   ]
  },
  {
   "cell_type": "code",
   "execution_count": 4,
   "id": "exempt-naples",
   "metadata": {},
   "outputs": [
    {
     "data": {
      "text/plain": [
       "1964"
      ]
     },
     "execution_count": 4,
     "metadata": {},
     "output_type": "execute_result"
    }
   ],
   "source": [
    "with_genomes.public_client_id.isin(with_metabolomics.public_client_id).sum()"
   ]
  },
  {
   "cell_type": "markdown",
   "id": "otherwise-turkey",
   "metadata": {},
   "source": [
    "## Microbiome data\n",
    "\n",
    "Now we will start to get the sample IDs for microbiome data. This will be read from a recent reprocessing using DADA2 and SILVA."
   ]
  },
  {
   "cell_type": "code",
   "execution_count": 6,
   "id": "hearing-banks",
   "metadata": {},
   "outputs": [
    {
     "data": {
      "text/plain": [
       "(5231, 24)"
      ]
     },
     "execution_count": 6,
     "metadata": {},
     "output_type": "execute_result"
    }
   ],
   "source": [
    "import pandas as pd\n",
    "\n",
    "micro = pd.read_csv(\"/proj/arivale/microbiome/16S_processed/metadata.csv\").dropna(subset=[\"days_in_program\"])\n",
    "with_microbiome = micro[[\"public_client_id\", \"vendor_observation_id\", \"days_in_program\"]].rename(columns={\"days_in_program\": \"stool_days_in_program\", \"vendor_observation_id\": \"stool_sample_id\"})\n",
    "with_microbiome[\"stool_days_in_program\"] = with_microbiome[\"stool_days_in_program\"].astype(\"int64\")\n",
    "micro.shape"
   ]
  },
  {
   "cell_type": "code",
   "execution_count": 7,
   "id": "portuguese-point",
   "metadata": {},
   "outputs": [
    {
     "data": {
      "text/plain": [
       "1905"
      ]
     },
     "execution_count": 7,
     "metadata": {},
     "output_type": "execute_result"
    }
   ],
   "source": [
    "pd.Series(with_microbiome.public_client_id.unique()).isin(with_metabolomics.public_client_id).sum()"
   ]
  },
  {
   "cell_type": "markdown",
   "id": "adjustable-anchor",
   "metadata": {},
   "source": [
    "We also create a table with individuals that have stool and microbiome samples within 30 days of each other."
   ]
  },
  {
   "cell_type": "code",
   "execution_count": 8,
   "id": "alert-belle",
   "metadata": {},
   "outputs": [
    {
     "data": {
      "text/plain": [
       "1623"
      ]
     },
     "execution_count": 8,
     "metadata": {},
     "output_type": "execute_result"
    }
   ],
   "source": [
    "with_micro_metab = pd.merge_asof(with_metabolomics.sort_values(by=\"blood_days_in_program\"), with_microbiome.sort_values(by=\"stool_days_in_program\"), by=\"public_client_id\", left_on=\"blood_days_in_program\", right_on=\"stool_days_in_program\", direction=\"nearest\")\n",
    "diffs = with_micro_metab.blood_days_in_program - with_micro_metab.stool_days_in_program\n",
    "with_micro_metab = with_micro_metab[diffs.abs() <= 30].reset_index(drop=True)\n",
    "with_micro_metab.public_client_id.nunique()"
   ]
  },
  {
   "cell_type": "markdown",
   "id": "starting-portugal",
   "metadata": {},
   "source": [
    "## Combining all data types\n",
    "\n",
    "Finally we will select all samples with all three data types. In some instances one individual may have 2 blood and/or fecal samples. We will track those cases but remove non-baseline samples from the default data set."
   ]
  },
  {
   "cell_type": "code",
   "execution_count": 9,
   "id": "intermediate-buyer",
   "metadata": {},
   "outputs": [],
   "source": [
    "with_all = pd.merge(with_genomes, with_micro_metab.drop_duplicates(subset=[\"public_client_id\"]), on=\"public_client_id\")"
   ]
  },
  {
   "cell_type": "code",
   "execution_count": 10,
   "id": "controlling-metabolism",
   "metadata": {},
   "outputs": [
    {
     "data": {
      "text/plain": [
       "(1569, 6)"
      ]
     },
     "execution_count": 10,
     "metadata": {},
     "output_type": "execute_result"
    }
   ],
   "source": [
    "with_all.shape"
   ]
  },
  {
   "cell_type": "code",
   "execution_count": 11,
   "id": "unavailable-acquisition",
   "metadata": {},
   "outputs": [],
   "source": [
    "with_all.to_csv(\"data/all_feature_types.csv\", index=False)"
   ]
  },
  {
   "cell_type": "code",
   "execution_count": 12,
   "id": "available-region",
   "metadata": {},
   "outputs": [],
   "source": [
    "with_all_multiple = pd.merge(with_genomes, with_micro_metab, on=\"public_client_id\")"
   ]
  },
  {
   "cell_type": "code",
   "execution_count": 13,
   "id": "proud-minority",
   "metadata": {},
   "outputs": [
    {
     "data": {
      "text/plain": [
       "(1786, 6)"
      ]
     },
     "execution_count": 13,
     "metadata": {},
     "output_type": "execute_result"
    }
   ],
   "source": [
    "with_all_multiple.shape"
   ]
  },
  {
   "cell_type": "code",
   "execution_count": 14,
   "id": "dense-candle",
   "metadata": {},
   "outputs": [],
   "source": [
    "with_all_multiple.to_csv(\"data/all_feature_types_multiple.csv\", index=False)"
   ]
  },
  {
   "cell_type": "code",
   "execution_count": null,
   "id": "thermal-bibliography",
   "metadata": {},
   "outputs": [],
   "source": []
  }
 ],
 "metadata": {
  "kernelspec": {
   "display_name": "Python 3",
   "language": "python",
   "name": "python3"
  },
  "language_info": {
   "codemirror_mode": {
    "name": "ipython",
    "version": 3
   },
   "file_extension": ".py",
   "mimetype": "text/x-python",
   "name": "python",
   "nbconvert_exporter": "python",
   "pygments_lexer": "ipython3",
   "version": "3.8.0"
  }
 },
 "nbformat": 4,
 "nbformat_minor": 5
}
