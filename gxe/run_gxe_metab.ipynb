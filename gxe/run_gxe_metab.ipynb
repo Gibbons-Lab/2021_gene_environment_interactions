{
 "cells": [
  {
   "cell_type": "code",
   "execution_count": null,
   "metadata": {},
   "outputs": [],
   "source": [
    "import numpy, pandas, glob, random, seaborn, re, matplotlib\n",
    "import matplotlib.pyplot as plt\n",
    "import seaborn as sns\n",
    "import scipy.stats\n",
    "from matplotlib.lines import Line2D\n",
    "from matplotlib import colors\n",
    "import sklearn.linear_model\n",
    "from sklearn.model_selection import KFold\n",
    "import statsmodels\n",
    "import statsmodels.api as sm\n",
    "from statsmodels.stats.api import anova_lm\n",
    "from statsmodels.formula.api import ols\n",
    "from statsmodels.stats import multitest\n",
    "from pyplink import PyPlink\n",
    "import rpy2.robjects as R\n",
    "from utils import *\n",
    "matplotlib.rcParams['figure.dpi'] = 300"
   ]
  },
  {
   "cell_type": "code",
   "execution_count": 3,
   "metadata": {},
   "outputs": [],
   "source": [
    "# define cohort and taxonomy level\n",
    "cohort = 'both'\n",
    "taxa_level = 'genus'\n",
    "bmi_or_not = 'bmi'\n",
    "classification = 'silva'\n",
    "classification_method = classification + '_classification'"
   ]
  },
  {
   "cell_type": "markdown",
   "metadata": {},
   "source": [
    "# load phenotype "
   ]
  },
  {
   "cell_type": "code",
   "execution_count": 5,
   "metadata": {},
   "outputs": [
    {
     "name": "stdout",
     "output_type": "stream",
     "text": [
      "176\n"
     ]
    }
   ],
   "source": [
    "# load pheno\n",
    "micro_metab_unadj = pandas.read_csv('./joint_pheno/{0}_{1}_{2}_micro_metab_unadj.pheno'.format(cohort, taxa_level, classification), index_col = [0,1])\n",
    "micro_metab_covar = pandas.read_csv('./joint_pheno/{0}_{1}_{2}_micro_metab_unadj.covar'.format(cohort, taxa_level, classification), index_col = [0,1])\n",
    "pheno_covar_merged_full = micro_metab_unadj.join(micro_metab_covar)\n",
    "pheno_covar_merged_full.index = pheno_covar_merged_full.index.droplevel(0)\n",
    "pheno_covar_merged_full.columns = [rename_numerical_id(col) for col in pheno_covar_merged_full.columns]\n",
    "\n",
    "# define covariates\n",
    "q_covar = ['age','age_sq','sex_age','sex_age_sq','PC1','PC2','PC3','PC4','PC5', 'bmi']\n",
    "c_covar = ['sex','batch']\n",
    "rename_c_covar = ['C({0})'.format(covar) for covar in c_covar]\n",
    "covariates = q_covar + c_covar\n",
    "\n",
    "form_covar = ['scale(age)', 'I(scale(age)**2)', 'PC1','PC2','PC3','PC4','PC5', 'bmi']\n",
    "int_covar = ['scale(age)*C(sex)', 'I(scale(age)**2)*C(sex)']\n",
    "form_covar = form_covar + rename_c_covar + int_covar\n",
    "\n",
    "# load association\n",
    "micro_metab_assoc = pandas.read_csv('./assoc_results/{0}_sig_metab_{1}_{2}_classification_lasso.csv'.format(cohort, taxa_level, classification))\n",
    "micro_metab_assoc['metabolite_id'] = [rename_numerical_id(identifier) for identifier in micro_metab_assoc['metabolite_id']]\n",
    "micro_metab_assoc['tax_id'] = [rename_numerical_id(identifier) for identifier in micro_metab_assoc['tax_id']]\n",
    "sig_metabolite = micro_metab_assoc['metabolite_id'].unique()\n",
    "print(len(sig_metabolite))\n",
    "\n",
    "# get metadata\n",
    "metabolite_metadata = pandas.read_csv('./input_pheno/all_metab_11192021.pheno.metadata', sep = '\\t', dtype=str)\n",
    "metabolite_metadata = metabolite_metadata.groupby('metabolite_id').first()[['metabolite', 'sub_pathway', 'super_pathway']]\n",
    "metabolite_metadata.index = [rename_numerical_id(identifier) for identifier in metabolite_metadata.index]\n",
    "metabolite_metadata_dict = metabolite_metadata['metabolite'].to_dict()\n",
    "metabolite_super_pathway_dict = metabolite_metadata['super_pathway'].to_dict()\n",
    "\n",
    "taxa_metadata = pandas.read_csv('./joint_pheno/{0}_{1}.metadata'.format(taxa_level, classification_method), dtype=str, sep = '\\t')\n",
    "taxa_metadata = taxa_metadata.set_index('tax_id')\n",
    "taxa_metadata.index = [rename_numerical_id(identifier) for identifier in taxa_metadata.index]\n",
    "genus_metadata_dict = taxa_metadata['taxonomy'].str.split(';').str.get(-1).to_dict()"
   ]
  },
  {
   "cell_type": "raw",
   "metadata": {},
   "source": [
    "healthy_inds = pandas.read_csv('./joint_pheno/healthy_inds.txt')['FID'].values\n",
    "pheno_covar_merged_full = pheno_covar_merged_full.loc[healthy_inds]"
   ]
  },
  {
   "cell_type": "markdown",
   "metadata": {},
   "source": [
    "# get genotype"
   ]
  },
  {
   "cell_type": "code",
   "execution_count": 6,
   "metadata": {},
   "outputs": [],
   "source": [
    "genotype = PyPlink('./input_bed/all_chr/all_genomes_09112019_all_chr')\n",
    "# genotype = PyPlink('/homedir/notebooks-cheng/mgwas/data/snp_query_03182019/final_merged/bed_files/all_chr/merged_metabolome_inds_biallelic_variants_all_chr')\n",
    "sample_ids = genotype.get_fam().iid.values"
   ]
  },
  {
   "cell_type": "code",
   "execution_count": 7,
   "metadata": {},
   "outputs": [
    {
     "name": "stdout",
     "output_type": "stream",
     "text": [
      "176\n"
     ]
    }
   ],
   "source": [
    "snp_list = 'validate_gwas/clumped_variants/metab/fastgwa/clumped_10perc_second_pass_list.txt'\n",
    "sig_metab_assoc = pandas.read_csv(snp_list, sep = '\\t', header = None)\n",
    "sig_metab_assoc.columns = ['rsid', 'Phenotype']\n",
    "\n",
    "# subset to phenotypes that have microbiome associations\n",
    "sig_metab_assoc = sig_metab_assoc[sig_metab_assoc['Phenotype'].isin(micro_metab_assoc['metabolite_id'].values)]\n",
    "sig_metab_assoc = sig_metab_assoc[~sig_metab_assoc['Phenotype'].str.contains('X99')]\n",
    "print(len(sig_metab_assoc['Phenotype'].unique()))"
   ]
  },
  {
   "cell_type": "markdown",
   "metadata": {},
   "source": [
    "# run GxE"
   ]
  },
  {
   "cell_type": "code",
   "execution_count": 8,
   "metadata": {},
   "outputs": [
    {
     "data": {
      "application/vnd.jupyter.widget-view+json": {
       "model_id": "ae1da8e735d24c98953b13ea08e6077a",
       "version_major": 2,
       "version_minor": 0
      },
      "text/plain": [
       "Output()"
      ]
     },
     "metadata": {},
     "output_type": "display_data"
    }
   ],
   "source": [
    "from multiprocessing import Pool\n",
    "from rich.progress import track\n",
    "from itertools import product\n",
    "\n",
    "pheno_covar_merged = pheno_covar_merged_full.copy()\n",
    "\n",
    "gxe_results = []\n",
    "rev_rsid_map = {}\n",
    "microbes = list(micro_metab_assoc['tax_id'].unique())\n",
    "\n",
    "# Assemble a table of all SNPs\n",
    "metabs = list(sig_metab_assoc['Phenotype'].unique())\n",
    "rsids = sig_metab_assoc['rsid'].unique()\n",
    "renamed_rsids = pandas.Series({i: i.split(';')[0] for i in rsids})\n",
    "dfs = [pandas.DataFrame(genotype.get_geno_marker(rsid), index = sample_ids, columns = [rsid]) for rsid in rsids]\n",
    "geno = pandas.concat(dfs, axis=1)\n",
    "geno.rename(columns = renamed_rsids, inplace=True)\n",
    "geno_pheno_covar = pheno_covar_merged[metabs + microbes + covariates].join(geno, how = 'outer')\n",
    "\n",
    "def betas(args):\n",
    "    \"\"\"Get the gene environment interaction coefficients.\"\"\"\n",
    "    metab, microbe = args\n",
    "    rsids = renamed_rsids[sig_metab_assoc.loc[sig_metab_assoc['Phenotype'] == metab, 'rsid']].tolist()\n",
    "    # print(metab, metabolite_metadata_dict[metab], f'# snps: {len(rsids)}', f'# bugs: {len(microbes)}')\n",
    "\n",
    "    df = geno_pheno_covar[[metab] + [microbe] + rsids + covariates].dropna()\n",
    "\n",
    "    gxes = []\n",
    "    \n",
    "    result = pandas.DataFrame(\n",
    "        index = [metab + ':' + microbe + ':' + i for i in rsids],\n",
    "        columns = ['metabolite_id','tax_id','rsid', 'genetics_beta', 'gxe_beta','pval', \n",
    "                   'baseline_rsq', 'without_microbe_rsq', 'gxe_rsq', 'n_alt_0', 'n_alt_1', 'n_alt_2']\n",
    "    )\n",
    "    for rsid in rsids:\n",
    "\n",
    "        try:\n",
    "            assert (df.groupby(rsid).count() > 30).all().all()\n",
    "            n_alt_count = df.groupby(rsid).count()\n",
    "            n_alt_0 = n_alt_count.loc[0][0]\n",
    "            n_alt_1 = n_alt_count.loc[1][0]\n",
    "            n_alt_2 = n_alt_count.loc[2][0]\n",
    "        except:\n",
    "            continue \n",
    "        gxe_term = rsid + ':' + microbe\n",
    "        no_microbe_formula = metab + ' ~ ' + ' + '.join(form_covar + [rsid])    \n",
    "        no_gxe_formula = metab + ' ~ ' + ' + '.join(form_covar + [rsid] + [microbe])\n",
    "        gxe_formula = metab + ' ~ ' + ' + '.join(form_covar + [rsid] + [microbe] + [gxe_term])\n",
    "        \n",
    "        no_int_out = ols(no_gxe_formula, df).fit()\n",
    "        baseline_rsq = no_int_out.rsquared\n",
    "        \n",
    "        no_microbe_rsq = ols(no_microbe_formula, df).fit().rsquared\n",
    "        \n",
    "        int_out = ols(gxe_formula, df).fit()\n",
    "        int_rsq = int_out.rsquared\n",
    "        gxe_beta = int_out.params.loc[gxe_term]\n",
    "        genetics_beta = int_out.params.loc[rsid]\n",
    "        gxe_pval = int_out.pvalues.loc[gxe_term]\n",
    "        \n",
    "        result.loc[metab + ':' + microbe + ':' + rsid] = [\n",
    "            metab, microbe, rsid, genetics_beta, gxe_beta, gxe_pval, baseline_rsq, no_microbe_rsq, \n",
    "            int_rsq, n_alt_0, n_alt_1, n_alt_2\n",
    "        ]\n",
    "            \n",
    "    return result\n",
    "\n",
    "with Pool(8) as pool:\n",
    "    args = [(met, mic) for met in metabs for mic in microbes]\n",
    "    it = track(pool.imap_unordered(betas, args), total=len(args), description='Fitting models')\n",
    "    results = pandas.concat(list(it))\n",
    "\n",
    "fdr_pass, adj_pval, sidack, bonff = statsmodels.stats.multitest.multipletests(results['pval'].values, method='fdr_bh', alpha=0.05)\n",
    "results['pass_fdr'] = adj_pval < 0.05\n",
    "results['adj_pval'] = adj_pval\n"
   ]
  },
  {
   "cell_type": "code",
   "execution_count": 9,
   "metadata": {},
   "outputs": [
    {
     "ename": "NameError",
     "evalue": "name 'gxe_fold_results_annotated' is not defined",
     "output_type": "error",
     "traceback": [
      "\u001b[0;31m---------------------------------------------------------------------------\u001b[0m",
      "\u001b[0;31mNameError\u001b[0m                                 Traceback (most recent call last)",
      "\u001b[0;32m<ipython-input-9-f58d60909227>\u001b[0m in \u001b[0;36m<module>\u001b[0;34m\u001b[0m\n\u001b[0;32m----> 1\u001b[0;31m \u001b[0mgenes\u001b[0m \u001b[0;34m=\u001b[0m \u001b[0mrsid2gene\u001b[0m\u001b[0;34m(\u001b[0m\u001b[0mgxe_fold_results_annotated\u001b[0m\u001b[0;34m.\u001b[0m\u001b[0mrsid\u001b[0m\u001b[0;34m.\u001b[0m\u001b[0munique\u001b[0m\u001b[0;34m(\u001b[0m\u001b[0;34m)\u001b[0m\u001b[0;34m)\u001b[0m\u001b[0;34m\u001b[0m\u001b[0;34m\u001b[0m\u001b[0m\n\u001b[0m",
      "\u001b[0;31mNameError\u001b[0m: name 'gxe_fold_results_annotated' is not defined"
     ]
    }
   ],
   "source": [
    "genes = rsid2gene(gxe_fold_results_annotated.rsid.unique())"
   ]
  },
  {
   "cell_type": "code",
   "execution_count": null,
   "metadata": {},
   "outputs": [],
   "source": [
    "gxe_fold_results_df = results.copy().dropna()\n",
    "gxe_fold_results_annotated = gxe_fold_results_df.merge(metabolite_metadata, left_on = 'metabolite_id', right_index = True, how = 'left')\n",
    "gxe_fold_results_annotated = gxe_fold_results_annotated.merge(taxa_metadata, left_on = 'tax_id', right_index = True, how = 'left')\n",
    "gxe_fold_results_annotated['genus'] = gxe_fold_results_annotated['taxonomy'].str.split(';').str.get(-1)\n",
    "gxe_fold_results_annotated['family'] = gxe_fold_results_annotated['taxonomy'].str.split(';').str.get(-2)\n",
    "\n",
    "gxe_fold_results_annotated = gxe_fold_results_annotated.merge(genes, on = 'rsid', how = 'left')\n",
    "\n",
    "gxe_fold_results_annotated.head()"
   ]
  },
  {
   "cell_type": "code",
   "execution_count": null,
   "metadata": {},
   "outputs": [],
   "source": [
    "sig_gxe_fold_results_annotated = gxe_fold_results_annotated[gxe_fold_results_annotated['pass_fdr'] == True]"
   ]
  },
  {
   "cell_type": "code",
   "execution_count": null,
   "metadata": {},
   "outputs": [],
   "source": [
    "min_count = 30\n",
    "gxe_results_sig_abundant = sig_gxe_fold_results_annotated[(sig_gxe_fold_results_annotated['n_alt_0'] > min_count) & \n",
    "                                           (sig_gxe_fold_results_annotated['n_alt_1'] > min_count) & \n",
    "                                           (sig_gxe_fold_results_annotated['n_alt_2'] > min_count)]"
   ]
  },
  {
   "cell_type": "code",
   "execution_count": null,
   "metadata": {},
   "outputs": [],
   "source": [
    "gxe_results_sig_abundant[\"gxe_only_rsq\"] = gxe_results_sig_abundant.gxe_rsq - gxe_results_sig_abundant.baseline_rsq\n",
    "temp_gxe_interest = gxe_results_sig_abundant.sort_values('pval', ascending=True).drop_duplicates()\n",
    "temp_gxe_interest = temp_gxe_interest.reset_index(drop = True)"
   ]
  },
  {
   "cell_type": "code",
   "execution_count": null,
   "metadata": {},
   "outputs": [],
   "source": [
    "from plotnine import *\n",
    "import numpy as np\n",
    "from scipy.stats import pearsonr\n",
    "\n",
    "s = sig_gxe_fold_results_annotated\n",
    "\n",
    "s.genetics_beta = s.genetics_beta.astype(\"float\")\n",
    "s.gxe_beta = s.gxe_beta.astype(\"float\")\n",
    "s.without_microbe_rsq = s.without_microbe_rsq.astype(\"float\")\n",
    "s.gxe_rsq = s.gxe_rsq.astype(\"float\")\n",
    "s.baseline_rsq = s.baseline_rsq.astype(\"float\")\n",
    "s[\"neg_log_pval\"] = -np.log10(s.pval.astype(\"float\"))\n",
    "s[\"type\"] = \"opposite\"\n",
    "s.loc[s.gxe_beta * s.genetics_beta > 0, \"type\"] = \"same\"\n",
    "s[\"gxe_only_rsq\"] = s.gxe_rsq - s.baseline_rsq\n",
    "s[\"genetics_rsq\"] = s.without_microbe_rsq\n",
    "\n",
    "pl = (\n",
    "    ggplot(s, aes(y=\"gxe_only_rsq\", x=\"genetics_rsq\", color=\"type\", group=1))\n",
    "    + geom_smooth(linetype=\"dashed\", method=\"lm\")\n",
    "    + geom_point(size=2)\n",
    "    + theme_minimal()\n",
    "    + geom_text(aes(label=\"metabolite\"), data=s[s.gxe_only_rsq > 0.01], ha=\"left\", nudge_x=0.01, size=10)\n",
    "    + labs(x=\"R² genetics\", y=\"R² gene:microbe\", color=\"direction\")\n",
    "    + scale_color_manual(values=[\"tomato\", \"royalblue\"])\n",
    ")\n",
    "print(pearsonr(s.gxe_only_rsq, s.genetics_rsq))\n",
    "pl.save(\"figures/genetics_vs_gxe.pdf\", width=6, height=5)\n",
    "pl"
   ]
  },
  {
   "cell_type": "code",
   "execution_count": null,
   "metadata": {},
   "outputs": [],
   "source": [
    "s[s.tax_id == \"alpha_div\"]"
   ]
  },
  {
   "cell_type": "markdown",
   "metadata": {},
   "source": [
    "# plot"
   ]
  },
  {
   "cell_type": "code",
   "execution_count": null,
   "metadata": {},
   "outputs": [],
   "source": [
    "for i in temp_gxe_interest.index[0:5]:\n",
    "    hit = temp_gxe_interest.loc[i]\n",
    "    sig_metab = hit['metabolite_id']\n",
    "    sig_rsid = hit['rsid']\n",
    "    sig_microbe = hit['tax_id']\n",
    "    temp_hit_geno = pandas.DataFrame(genotype.get_acgt_geno_marker(sig_rsid), index = sample_ids, columns = [sig_rsid])\n",
    "    temp_hit_geno = temp_hit_geno.join(pandas.DataFrame(genotype.get_geno_marker(sig_rsid), index = sample_ids, columns = [sig_rsid + '_alt_count']))\n",
    "    temp_pheno_covar_merged = pheno_covar_merged[[sig_metab, sig_microbe] + covariates].join(temp_hit_geno, how = 'inner').dropna()\n",
    "\n",
    "    bim = genotype.get_bim()\n",
    "    hit_minor_allele = bim.loc[sig_rsid, 'a1']\n",
    "    hit_major_allele = bim.loc[sig_rsid, 'a2']\n",
    "    allele_order = [hit_major_allele*2, hit_minor_allele + hit_major_allele, hit_minor_allele*2]\n",
    "\n",
    "    temp_cov_adj_formula = sig_metab + ' ~ ' + ' + '.join(form_covar + rename_c_covar)\n",
    "    temp_cov_adj_lm = ols(temp_cov_adj_formula, temp_pheno_covar_merged).fit()\n",
    "    temp_pheno_covar_merged['covar_adj'] = temp_cov_adj_lm.resid\n",
    "\n",
    "    print(sig_rsid, metabolite_metadata_dict[sig_metab], genus_metadata_dict[sig_microbe])\n",
    "\n",
    "    scatter_args = {'linewidth':0.3, 'edgecolor':'black', 'color':'slategrey'}\n",
    "    line_args = {'color':'slategrey'}\n",
    "    \n",
    "    fig, (ax1, ax2) = plt.subplots(ncols=2, nrows=1, figsize = (10,4), sharey= False)\n",
    "    sns.boxplot(x = sig_rsid, y= 'covar_adj', data = temp_pheno_covar_merged, \n",
    "                order = allele_order, ax = ax1, palette = 'Set1', showfliers = False, showcaps = False)\n",
    "    sns.stripplot(x = sig_rsid, y= 'covar_adj', data = temp_pheno_covar_merged, \n",
    "                  order = allele_order, ax = ax1, palette = 'Set1', linewidth=0.5, alpha = 0.5)\n",
    "    sns.regplot(x = sig_microbe, y = 'covar_adj', data = temp_pheno_covar_merged,\n",
    "                scatter_kws = scatter_args, ax = ax2,\n",
    "               line_kws = line_args)\n",
    "    ax1.set_ylabel(metabolite_metadata_dict[sig_metab])\n",
    "    ax2.set_ylabel('')\n",
    "    ax2.set_xlabel(genus_metadata_dict[sig_microbe])\n",
    "    sns.despine()\n",
    "    plt.savefig(f\"figures/{sig_metab}|{sig_microbe}|{sig_rsid}_basic.png\", dpi=300, width=6, height=4, bbox_inches=\"tight\")\n",
    "    plt.show()\n",
    "    plt.close()\n",
    "    \n",
    "    print(scipy.stats.pearsonr(temp_pheno_covar_merged['covar_adj'], temp_pheno_covar_merged[sig_microbe])[0])\n",
    "    for index, (protein_genotype, subset_df) in enumerate(temp_pheno_covar_merged.groupby(sig_rsid)):\n",
    "        slope, intercept, r, pval, std = scipy.stats.linregress(subset_df['covar_adj'], subset_df[sig_microbe])\n",
    "        print(protein_genotype, r, pval)\n",
    "    \n",
    "    g = sns.FacetGrid(data=temp_pheno_covar_merged, col=sig_rsid, col_order = allele_order)\n",
    "    g.map(sns.regplot, sig_microbe, sig_metab,  scatter_kws = scatter_args, line_kws = line_args)\n",
    "    g.set(xlim=(temp_pheno_covar_merged[sig_microbe].min()*1.1, temp_pheno_covar_merged[sig_microbe].max()*1.1),\n",
    "         ylim=(temp_pheno_covar_merged[sig_metab].min()*1.1, temp_pheno_covar_merged[sig_metab].max()*1.1))\n",
    "    g.set_xlabels(genus_metadata_dict[sig_microbe])\n",
    "    g.set_ylabels(metabolite_metadata_dict[sig_metab])\n",
    "    plt.savefig(f\"figures/{sig_metab}|{sig_microbe}|{sig_rsid}_groups.png\", dpi=300, width=6, height=4, bbox_inches=\"tight\")\n",
    "    plt.show()\n",
    "    plt.close()"
   ]
  },
  {
   "cell_type": "code",
   "execution_count": null,
   "metadata": {},
   "outputs": [],
   "source": [
    "temp_pheno_covar_merged['affected'] = [1 if i.count(hit_minor_allele) > 0 \n",
    "                                       else 0 \n",
    "                                       for i in temp_pheno_covar_merged[sig_rsid]]\n",
    "affected_order = [0, 1]\n",
    "affected_x_tick_label = list(map({0:'unaffected', 1:'affected'}.get, affected_order))\n",
    "\n",
    "print(ols('{0} ~ {1}'.format(sig_microbe,'affected'), data=temp_pheno_covar_merged).fit().pvalues['affected'])\n",
    "print(ols('{0} ~ {1}'.format(sig_microbe,sig_rsid+'_alt_count'), data=temp_pheno_covar_merged).fit().pvalues[sig_rsid+'_alt_count'])\n",
    "\n",
    "\n",
    "fig, ax = plt.subplots()\n",
    "sns.boxplot(x = 'affected', y= sig_microbe, data = temp_pheno_covar_merged, order = [0, 1], ax = ax, palette = 'Set1')\n",
    "sns.stripplot(x = 'affected', y= sig_microbe, data = temp_pheno_covar_merged, order = [0, 1], ax = ax, palette = 'Set1', linewidth=0.5)\n",
    "ax.set_xticklabels(affected_x_tick_label)\n",
    "ax.set_xlabel('')\n",
    "ax.set_ylabel(genus_metadata_dict[sig_microbe])\n",
    "plt.show()\n",
    "plt.close()"
   ]
  },
  {
   "cell_type": "code",
   "execution_count": null,
   "metadata": {},
   "outputs": [],
   "source": [
    "gxe_fold_results_annotated.shape"
   ]
  },
  {
   "cell_type": "code",
   "execution_count": null,
   "metadata": {},
   "outputs": [],
   "source": [
    "(temp_gxe_interest.gxe_rsq - temp_gxe_interest.baseline_rsq).astype(float).describe()"
   ]
  },
  {
   "cell_type": "code",
   "execution_count": null,
   "metadata": {},
   "outputs": [],
   "source": [
    "from scipy.stats import hypergeom\n",
    "from statsmodels.stats.multitest import multipletests\n",
    "\n",
    "def stars(p):\n",
    "    if p>0.05:\n",
    "        return \"n.s.\"\n",
    "    else:\n",
    "        return sum(p < c for c in [0.05, 0.01, 0.001]) * \"٭\"\n",
    "\n",
    "def enrichment(full_data, sig_data, column, figsize=(3, 4), min_sig=1):\n",
    "    full_counts = full_data[column].value_counts()\n",
    "    sig_counts = sig_data[column].value_counts()\n",
    "    stats = pd.DataFrame({\"full_counts\": full_counts, \"sig_counts\": sig_counts, \"n\": full_counts.sum(), \"sig_n\": sig_counts.sum()}).fillna(0)\n",
    "    stats[\"p\"] = stats.apply(lambda df: hypergeom.sf(max(0, df.sig_counts - 1), df.n, max(df.full_counts, 1), df.sig_n), axis=1)\n",
    "    stats[\"odds\"] = (stats.sig_counts / stats.sig_n) / (stats.full_counts / stats.n)\n",
    "    stats[\"log_odds\"] = np.log(stats.odds)\n",
    "    stats[\"q\"] = multipletests(stats.p, method=\"fdr_bh\")[1]\n",
    "    \n",
    "    stats[\"all\"] = stats[\"full_counts\"] / stats[\"n\"]\n",
    "    stats[\"significant\"] = stats[\"sig_counts\"] / stats[\"sig_n\"]\n",
    "    stats.index.name = column\n",
    "    stats.reset_index(inplace=True)\n",
    "    \n",
    "    long = stats[stats.sig_counts >= min_sig].melt(id_vars=[column, \"p\", \"q\"], value_vars=[\"all\", \"significant\"], value_name=\"prevalence\", var_name=\"group\")\n",
    "    long[column] = pd.Categorical(long[column], long.sort_values(by=\"prevalence\")[column].unique()) \n",
    "    long[\"sig_stars\"] = long.q.apply(stars)\n",
    "    \n",
    "    pl = (\n",
    "        ggplot(long, aes(x=\"prevalence\", y=column, shape=\"group\", color=\"group\")) +\n",
    "        geom_line(aes(group=column), color=\"black\") +\n",
    "        geom_point(size=2) +\n",
    "        theme_minimal() +\n",
    "        theme(figure_size=figsize) +\n",
    "        labs(y=\"\")\n",
    "    )\n",
    "    if (long.q < 0.05).any():\n",
    "        pl += geom_text(\n",
    "            aes(label=\"sig_stars\"), \n",
    "            data=long[(long.q<0.05) & (long.group == \"significant\")], \n",
    "            color=\"black\", va=\"center\", ha=\"left\", \n",
    "            nudge_x=(long.prevalence.max() - long.prevalence.min())*0.025)\n",
    "    \n",
    "    return stats.sort_values(by=\"p\"), pl"
   ]
  },
  {
   "cell_type": "code",
   "execution_count": null,
   "metadata": {},
   "outputs": [],
   "source": [
    "pathway_enr = enrichment(gxe_fold_results_annotated, sig_gxe_fold_results_annotated, \"sub_pathway\", figsize=(3, 5))\n",
    "microbe_enr = enrichment(gxe_fold_results_annotated, sig_gxe_fold_results_annotated, \"family\", figsize=(3, 4))\n",
    "gene_enr = enrichment(gxe_fold_results_annotated, sig_gxe_fold_results_annotated, \"gene_symbol\", figsize=(3, 7))"
   ]
  },
  {
   "cell_type": "code",
   "execution_count": null,
   "metadata": {},
   "outputs": [],
   "source": [
    "pathway_enr[1].save(\"figures/enriched_pathways.pdf\", width=3, height=5)\n",
    "pathway_enr[1]"
   ]
  },
  {
   "cell_type": "code",
   "execution_count": null,
   "metadata": {},
   "outputs": [],
   "source": [
    "microbe_enr[1].save(\"figures/enriched_microbes.pdf\", width=3, height=4)\n",
    "microbe_enr[1]"
   ]
  },
  {
   "cell_type": "code",
   "execution_count": null,
   "metadata": {},
   "outputs": [],
   "source": [
    "gene_enr[1].save(\"figures/enriched_genes.pdf\", width=3, height=7)\n",
    "gene_enr[1]"
   ]
  },
  {
   "cell_type": "code",
   "execution_count": null,
   "metadata": {},
   "outputs": [],
   "source": [
    "snp_enr[0]"
   ]
  },
  {
   "cell_type": "code",
   "execution_count": null,
   "metadata": {},
   "outputs": [],
   "source": []
  }
 ],
 "metadata": {
  "kernelspec": {
   "display_name": "Python 3",
   "language": "python",
   "name": "python3"
  },
  "language_info": {
   "codemirror_mode": {
    "name": "ipython",
    "version": 3
   },
   "file_extension": ".py",
   "mimetype": "text/x-python",
   "name": "python",
   "nbconvert_exporter": "python",
   "pygments_lexer": "ipython3",
   "version": "3.8.0"
  }
 },
 "nbformat": 4,
 "nbformat_minor": 4
}
